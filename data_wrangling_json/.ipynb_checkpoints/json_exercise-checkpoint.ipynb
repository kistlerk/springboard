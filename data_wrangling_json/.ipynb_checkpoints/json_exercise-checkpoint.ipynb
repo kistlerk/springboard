{
 "cells": [
  {
   "cell_type": "code",
   "execution_count": 1,
   "metadata": {
    "collapsed": true
   },
   "outputs": [],
   "source": [
    "import pandas as pd\n",
    "import json\n",
    "from pandas.io.json import json_normalize"
   ]
  },
  {
   "cell_type": "code",
   "execution_count": 102,
   "metadata": {
    "collapsed": true
   },
   "outputs": [],
   "source": [
    "#Load json file into a dataframe\n",
    "with open('data/world_bank_projects.json', 'r') as json_file:\n",
    "    df = pd.read_json(json_file)"
   ]
  },
  {
   "cell_type": "code",
   "execution_count": 13,
   "metadata": {
    "scrolled": true
   },
   "outputs": [
    {
     "name": "stdout",
     "output_type": "stream",
     "text": [
      "                                      _id  approvalfy board_approval_month  \\\n",
      "0  {u'$oid': u'52b213b38594d8a2be17c780'}        1999             November   \n",
      "1  {u'$oid': u'52b213b38594d8a2be17c781'}        2015             November   \n",
      "2  {u'$oid': u'52b213b38594d8a2be17c782'}        2014             November   \n",
      "3  {u'$oid': u'52b213b38594d8a2be17c783'}        2014              October   \n",
      "4  {u'$oid': u'52b213b38594d8a2be17c784'}        2014              October   \n",
      "\n",
      "      boardapprovaldate                                 borrower  \\\n",
      "0  2013-11-12T00:00:00Z  FEDERAL DEMOCRATIC REPUBLIC OF ETHIOPIA   \n",
      "1  2013-11-04T00:00:00Z                    GOVERNMENT OF TUNISIA   \n",
      "2  2013-11-01T00:00:00Z   MINISTRY OF FINANCE AND ECONOMIC DEVEL   \n",
      "3  2013-10-31T00:00:00Z   MIN. OF PLANNING AND INT'L COOPERATION   \n",
      "4  2013-10-31T00:00:00Z                      MINISTRY OF FINANCE   \n",
      "\n",
      "            closingdate                              country_namecode  \\\n",
      "0  2018-07-07T00:00:00Z  Federal Democratic Republic of Ethiopia!$!ET   \n",
      "1                   NaN                      Republic of Tunisia!$!TN   \n",
      "2                   NaN                                   Tuvalu!$!TV   \n",
      "3                   NaN                        Republic of Yemen!$!RY   \n",
      "4  2019-04-30T00:00:00Z                       Kingdom of Lesotho!$!LS   \n",
      "\n",
      "  countrycode                              countryname    countryshortname  \\\n",
      "0          ET  Federal Democratic Republic of Ethiopia            Ethiopia   \n",
      "1          TN                      Republic of Tunisia             Tunisia   \n",
      "2          TV                                   Tuvalu              Tuvalu   \n",
      "3          RY                        Republic of Yemen  Yemen, Republic of   \n",
      "4          LS                       Kingdom of Lesotho             Lesotho   \n",
      "\n",
      "                         ...                           sectorcode source  \\\n",
      "0                        ...                          ET,BS,ES,EP   IBRD   \n",
      "1                        ...                                BZ,BS   IBRD   \n",
      "2                        ...                                   TI   IBRD   \n",
      "3                        ...                                   JB   IBRD   \n",
      "4                        ...                             FH,YW,YZ   IBRD   \n",
      "\n",
      "   status  supplementprojectflg  \\\n",
      "0  Active                     N   \n",
      "1  Active                     N   \n",
      "2  Active                     Y   \n",
      "3  Active                     N   \n",
      "4  Active                     N   \n",
      "\n",
      "                                              theme1  \\\n",
      "0   {u'Percent': 100, u'Name': u'Education for all'}   \n",
      "1  {u'Percent': 30, u'Name': u'Other economic man...   \n",
      "2  {u'Percent': 46, u'Name': u'Regional integrati...   \n",
      "3  {u'Percent': 50, u'Name': u'Participation and ...   \n",
      "4  {u'Percent': 30, u'Name': u'Export development...   \n",
      "\n",
      "                                      theme_namecode    themecode   totalamt  \\\n",
      "0  [{u'code': u'65', u'name': u'Education for all'}]           65  130000000   \n",
      "1  [{u'code': u'24', u'name': u'Other economic ma...        54,24          0   \n",
      "2  [{u'code': u'47', u'name': u'Regional integrat...  52,81,25,47    6060000   \n",
      "3  [{u'code': u'57', u'name': u'Participation and...        59,57          0   \n",
      "4  [{u'code': u'45', u'name': u'Export developmen...        41,45   13100000   \n",
      "\n",
      "  totalcommamt                                                url  \n",
      "0    130000000  http://www.worldbank.org/projects/P129828/ethi...  \n",
      "1      4700000  http://www.worldbank.org/projects/P144674?lang=en  \n",
      "2      6060000  http://www.worldbank.org/projects/P145310?lang=en  \n",
      "3      1500000  http://www.worldbank.org/projects/P144665?lang=en  \n",
      "4     13100000  http://www.worldbank.org/projects/P144933/seco...  \n",
      "\n",
      "[5 rows x 50 columns]\n"
     ]
    }
   ],
   "source": [
    "print(df.head())"
   ]
  },
  {
   "cell_type": "code",
   "execution_count": 73,
   "metadata": {},
   "outputs": [
    {
     "name": "stdout",
     "output_type": "stream",
     "text": [
      "People's Republic of China         19\n",
      "Republic of Indonesia              19\n",
      "Socialist Republic of Vietnam      17\n",
      "Republic of India                  16\n",
      "Republic of Yemen                  13\n",
      "Kingdom of Morocco                 12\n",
      "People's Republic of Bangladesh    12\n",
      "Nepal                              12\n",
      "Republic of Mozambique             11\n",
      "Africa                             11\n",
      "Name: countryname, dtype: int64\n",
      "[\"People's Republic of China\", 'Republic of Indonesia', 'Socialist Republic of Vietnam', 'Republic of India', 'Republic of Yemen', 'Nepal', \"People's Republic of Bangladesh\", 'Kingdom of Morocco', 'Africa', 'Republic of Mozambique']\n"
     ]
    }
   ],
   "source": [
    "#1. Find 10 countries with the most projects\n",
    "\n",
    "#Print top 10 countries and number of projects\n",
    "print(df['countryname'].value_counts().head(10))\n",
    "\n",
    "#Make list of top 10 countries\n",
    "top10=[]\n",
    "counted = df.groupby('countryname')['countryname'].count().sort_values(ascending=False)\n",
    "for key in counted.head(10).keys():\n",
    "    top10.append(str(key))\n",
    "    \n",
    "print(top10)"
   ]
  },
  {
   "cell_type": "code",
   "execution_count": 43,
   "metadata": {},
   "outputs": [
    {
     "name": "stdout",
     "output_type": "stream",
     "text": [
      "[{u'code': u'11', u'name': u'Environment and natural resources management'}, {u'code': u'11', u'name': u'Environment and natural resources management'}]                                                                                            12\n",
      "[{u'code': u'8', u'name': u'Human development'}, {u'code': u'11', u'name': u''}]                                                                                                                                                                    11\n",
      "[{u'code': u'8', u'name': u'Human development'}, {u'code': u'8', u'name': u'Human development'}]                                                                                                                                                     8\n",
      "[{u'code': u'4', u'name': u'Financial and private sector development'}, {u'code': u'4', u'name': u'Financial and private sector development'}]                                                                                                       6\n",
      "[{u'code': u'2', u'name': u'Public sector governance'}, {u'code': u'2', u'name': u'Public sector governance'}, {u'code': u'2', u'name': u'Public sector governance'}]                                                                                6\n",
      "[{u'code': u'8', u'name': u'Human development'}, {u'code': u'7', u'name': u'Social dev/gender/inclusion'}]                                                                                                                                           5\n",
      "[{u'code': u'8', u'name': u'Human development'}, {u'code': u'8', u'name': u'Human development'}, {u'code': u'8', u'name': u'Human development'}, {u'code': u'8', u'name': u'Human development'}, {u'code': u'8', u'name': u'Human development'}]     5\n",
      "[{u'code': u'11', u'name': u'Environment and natural resources management'}, {u'code': u'11', u'name': u''}]                                                                                                                                         5\n",
      "[{u'code': u'11', u'name': u'Environment and natural resources management'}, {u'code': u'4', u'name': u''}]                                                                                                                                          5\n",
      "[{u'code': u'4', u'name': u'Financial and private sector development'}, {u'code': u'5', u'name': u'Trade and integration'}]                                                                                                                          5\n",
      "Name: mjtheme_namecode, dtype: int64\n"
     ]
    }
   ],
   "source": [
    "#2. Find the top 10 major project themes (using column 'mjtheme_namecode')\n",
    "print(df['mjtheme_namecode'].value_counts().head(10))\n"
   ]
  },
  {
   "cell_type": "code",
   "execution_count": 106,
   "metadata": {},
   "outputs": [],
   "source": [
    "#3. In 2. above you will notice that some entries have only the code and the name is missing. Create a dataframe with the missing names filled in.\n",
    "\n",
    "#Make dictionary to store the name for each theme code\n",
    "code_dict = {}\n",
    "for entry in df['mjtheme_namecode']:\n",
    "    for codes in entry:\n",
    "        if codes['name']!='':\n",
    "            if codes['code'] not in code_dict.keys():\n",
    "                code_dict[codes['code']]= codes['name']\n",
    "\n",
    "#Add name to themes that are missing codes:\n",
    "for i in df['mjtheme_namecode']:\n",
    "    for codes in i:\n",
    "        if codes['name']=='':\n",
    "            codes['name']=code_dict[codes['code']]\n"
   ]
  }
 ],
 "metadata": {
  "kernelspec": {
   "display_name": "Python 2",
   "language": "python",
   "name": "python2"
  },
  "language_info": {
   "codemirror_mode": {
    "name": "ipython",
    "version": 2
   },
   "file_extension": ".py",
   "mimetype": "text/x-python",
   "name": "python",
   "nbconvert_exporter": "python",
   "pygments_lexer": "ipython2",
   "version": "2.7.14"
  }
 },
 "nbformat": 4,
 "nbformat_minor": 2
}
